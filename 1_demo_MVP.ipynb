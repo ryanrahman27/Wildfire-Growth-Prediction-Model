{
  "cells": [
    {
      "cell_type": "code",
      "source": [
        "!pip install pandas geopandas torch torchvision rasterio"
      ],
      "metadata": {
        "colab": {
          "base_uri": "https://localhost:8080/"
        },
        "id": "6s8kIWdGDpH6",
        "outputId": "e98d25e4-7b47-4b86-d9ae-f4d7bddb3e3d"
      },
      "execution_count": null,
      "outputs": [
        {
          "output_type": "stream",
          "name": "stdout",
          "text": [
            "Requirement already satisfied: pandas in /usr/local/lib/python3.10/dist-packages (2.0.3)\n",
            "Requirement already satisfied: geopandas in /usr/local/lib/python3.10/dist-packages (0.13.2)\n",
            "Requirement already satisfied: torch in /usr/local/lib/python3.10/dist-packages (2.3.0+cu121)\n",
            "Requirement already satisfied: torchvision in /usr/local/lib/python3.10/dist-packages (0.18.0+cu121)\n",
            "Requirement already satisfied: rasterio in /usr/local/lib/python3.10/dist-packages (1.3.10)\n",
            "Requirement already satisfied: python-dateutil>=2.8.2 in /usr/local/lib/python3.10/dist-packages (from pandas) (2.8.2)\n",
            "Requirement already satisfied: pytz>=2020.1 in /usr/local/lib/python3.10/dist-packages (from pandas) (2023.4)\n",
            "Requirement already satisfied: tzdata>=2022.1 in /usr/local/lib/python3.10/dist-packages (from pandas) (2024.1)\n",
            "Requirement already satisfied: numpy>=1.21.0 in /usr/local/lib/python3.10/dist-packages (from pandas) (1.25.2)\n",
            "Requirement already satisfied: fiona>=1.8.19 in /usr/local/lib/python3.10/dist-packages (from geopandas) (1.9.6)\n",
            "Requirement already satisfied: packaging in /usr/local/lib/python3.10/dist-packages (from geopandas) (24.0)\n",
            "Requirement already satisfied: pyproj>=3.0.1 in /usr/local/lib/python3.10/dist-packages (from geopandas) (3.6.1)\n",
            "Requirement already satisfied: shapely>=1.7.1 in /usr/local/lib/python3.10/dist-packages (from geopandas) (2.0.4)\n",
            "Requirement already satisfied: filelock in /usr/local/lib/python3.10/dist-packages (from torch) (3.14.0)\n",
            "Requirement already satisfied: typing-extensions>=4.8.0 in /usr/local/lib/python3.10/dist-packages (from torch) (4.11.0)\n",
            "Requirement already satisfied: sympy in /usr/local/lib/python3.10/dist-packages (from torch) (1.12)\n",
            "Requirement already satisfied: networkx in /usr/local/lib/python3.10/dist-packages (from torch) (3.3)\n",
            "Requirement already satisfied: jinja2 in /usr/local/lib/python3.10/dist-packages (from torch) (3.1.4)\n",
            "Requirement already satisfied: fsspec in /usr/local/lib/python3.10/dist-packages (from torch) (2023.6.0)\n",
            "Requirement already satisfied: nvidia-cuda-nvrtc-cu12==12.1.105 in /usr/local/lib/python3.10/dist-packages (from torch) (12.1.105)\n",
            "Requirement already satisfied: nvidia-cuda-runtime-cu12==12.1.105 in /usr/local/lib/python3.10/dist-packages (from torch) (12.1.105)\n",
            "Requirement already satisfied: nvidia-cuda-cupti-cu12==12.1.105 in /usr/local/lib/python3.10/dist-packages (from torch) (12.1.105)\n",
            "Requirement already satisfied: nvidia-cudnn-cu12==8.9.2.26 in /usr/local/lib/python3.10/dist-packages (from torch) (8.9.2.26)\n",
            "Requirement already satisfied: nvidia-cublas-cu12==12.1.3.1 in /usr/local/lib/python3.10/dist-packages (from torch) (12.1.3.1)\n",
            "Requirement already satisfied: nvidia-cufft-cu12==11.0.2.54 in /usr/local/lib/python3.10/dist-packages (from torch) (11.0.2.54)\n",
            "Requirement already satisfied: nvidia-curand-cu12==10.3.2.106 in /usr/local/lib/python3.10/dist-packages (from torch) (10.3.2.106)\n",
            "Requirement already satisfied: nvidia-cusolver-cu12==11.4.5.107 in /usr/local/lib/python3.10/dist-packages (from torch) (11.4.5.107)\n",
            "Requirement already satisfied: nvidia-cusparse-cu12==12.1.0.106 in /usr/local/lib/python3.10/dist-packages (from torch) (12.1.0.106)\n",
            "Requirement already satisfied: nvidia-nccl-cu12==2.20.5 in /usr/local/lib/python3.10/dist-packages (from torch) (2.20.5)\n",
            "Requirement already satisfied: nvidia-nvtx-cu12==12.1.105 in /usr/local/lib/python3.10/dist-packages (from torch) (12.1.105)\n",
            "Requirement already satisfied: triton==2.3.0 in /usr/local/lib/python3.10/dist-packages (from torch) (2.3.0)\n",
            "Requirement already satisfied: nvidia-nvjitlink-cu12 in /usr/local/lib/python3.10/dist-packages (from nvidia-cusolver-cu12==11.4.5.107->torch) (12.5.40)\n",
            "Requirement already satisfied: pillow!=8.3.*,>=5.3.0 in /usr/local/lib/python3.10/dist-packages (from torchvision) (9.4.0)\n",
            "Requirement already satisfied: affine in /usr/local/lib/python3.10/dist-packages (from rasterio) (2.4.0)\n",
            "Requirement already satisfied: attrs in /usr/local/lib/python3.10/dist-packages (from rasterio) (23.2.0)\n",
            "Requirement already satisfied: certifi in /usr/local/lib/python3.10/dist-packages (from rasterio) (2024.2.2)\n",
            "Requirement already satisfied: click>=4.0 in /usr/local/lib/python3.10/dist-packages (from rasterio) (8.1.7)\n",
            "Requirement already satisfied: cligj>=0.5 in /usr/local/lib/python3.10/dist-packages (from rasterio) (0.7.2)\n",
            "Requirement already satisfied: snuggs>=1.4.1 in /usr/local/lib/python3.10/dist-packages (from rasterio) (1.4.7)\n",
            "Requirement already satisfied: click-plugins in /usr/local/lib/python3.10/dist-packages (from rasterio) (1.1.1)\n",
            "Requirement already satisfied: setuptools in /usr/local/lib/python3.10/dist-packages (from rasterio) (67.7.2)\n",
            "Requirement already satisfied: six in /usr/local/lib/python3.10/dist-packages (from fiona>=1.8.19->geopandas) (1.16.0)\n",
            "Requirement already satisfied: pyparsing>=2.1.6 in /usr/local/lib/python3.10/dist-packages (from snuggs>=1.4.1->rasterio) (3.1.2)\n",
            "Requirement already satisfied: MarkupSafe>=2.0 in /usr/local/lib/python3.10/dist-packages (from jinja2->torch) (2.1.5)\n",
            "Requirement already satisfied: mpmath>=0.19 in /usr/local/lib/python3.10/dist-packages (from sympy->torch) (1.3.0)\n"
          ]
        }
      ]
    },
    {
      "cell_type": "markdown",
      "metadata": {
        "id": "xuWPTPRUDfpd"
      },
      "source": [
        "# Demo CNN for Wildfire Growth Prediction\n",
        "\n",
        "Below is starter code for a cnn solution to solve the wildfire growth challenge!\n",
        "\n",
        "We provide infrastructure and helper functions to call and process the data.\n",
        "\n",
        "It is up to your team to fill in necessary blanks and improve the pipeline."
      ]
    },
    {
      "cell_type": "code",
      "source": [
        "%cd /content/drive/MyDrive/Wildfire_Hackathon/Wildfire_Hackathon_Complete"
      ],
      "metadata": {
        "colab": {
          "base_uri": "https://localhost:8080/"
        },
        "id": "WrROv3m5QSXx",
        "outputId": "ee3170a1-f41a-4170-8598-a64f796d366d"
      },
      "execution_count": null,
      "outputs": [
        {
          "output_type": "stream",
          "name": "stdout",
          "text": [
            "/content/drive/MyDrive/Wildfire_Hackathon/Wildfire_Hackathon_Complete\n"
          ]
        }
      ]
    },
    {
      "cell_type": "code",
      "source": [
        "from google.colab import drive\n",
        "drive.mount('/content/drive')"
      ],
      "metadata": {
        "colab": {
          "base_uri": "https://localhost:8080/"
        },
        "id": "nWh4SSNGPhvw",
        "outputId": "3ef38ce6-8b3e-4c59-ad6a-2b3f6f98ea18"
      },
      "execution_count": null,
      "outputs": [
        {
          "output_type": "stream",
          "name": "stdout",
          "text": [
            "Drive already mounted at /content/drive; to attempt to forcibly remount, call drive.mount(\"/content/drive\", force_remount=True).\n"
          ]
        }
      ]
    },
    {
      "cell_type": "code",
      "execution_count": null,
      "metadata": {
        "id": "Eyzxz0BHDfpf"
      },
      "outputs": [],
      "source": [
        "import numpy as np\n",
        "import pandas as pd\n",
        "import geopandas as gpd\n",
        "import rasterio as rio\n",
        "import os\n",
        "import torch\n",
        "from torch.utils.data import Dataset\n",
        "from torchvision import transforms\n",
        "import torch.optim as optim\n",
        "from tqdm import tqdm\n",
        "import torch.nn.functional as F\n",
        "\n",
        "# Paths for data and fires\n",
        "data_path = \"./\"\n",
        "train_path = data_path + \"Train/\"\n",
        "test_path = data_path + \"Test/\"\n",
        "tr_fnums = [\"fire1209\", \"fire1298\", \"fire1386\", \"fire2034\", \"fire2210\", \"fire2211\", \"fire2212\"]\n",
        "te_fnums = [\"fire2214\"]"
      ]
    },
    {
      "cell_type": "code",
      "execution_count": null,
      "metadata": {
        "id": "qtQnsaSLDfph"
      },
      "outputs": [],
      "source": [
        "# Util variables\n",
        "device = 'cuda'\n",
        "target_shape = (528, 720)\n",
        "\n",
        "# Util functions\n",
        "def pad_to_fit(d, shape):\n",
        "    h, w = d.shape\n",
        "    pad_h = shape[0] - h\n",
        "    pad_w = shape[1] - w\n",
        "    if pad_h > 0 or pad_w > 0:\n",
        "        pad_top = pad_h // 2\n",
        "        pad_bottom = pad_h - pad_top\n",
        "        pad_left = pad_w // 2\n",
        "        pad_right = pad_w - pad_left\n",
        "\n",
        "        d = np.pad(d, ((pad_top, pad_bottom), (pad_left, pad_right)), mode='constant', constant_values=0)\n",
        "    return d\n",
        "\n",
        "def normalize(d):\n",
        "    m = np.mean(d)\n",
        "    s = np.std(d)\n",
        "    return (d - m)/s\n",
        "\n",
        "def tif2np(tif):\n",
        "    with rio.open(tif) as src:\n",
        "        data = src.read(1)  # Read the first band\n",
        "    return pad_to_fit(np.nan_to_num(data, nan=0.0), target_shape)"
      ]
    },
    {
      "cell_type": "markdown",
      "metadata": {
        "id": "UKR3Q2AnDfpj"
      },
      "source": [
        "## Functions to load data\n",
        "\n",
        "The load fire function loads and processes data for the denoted fire. The fire is then stacked into a numpy array.\n",
        "\n",
        "The load day function loads in a day of data for a specified fire.\n",
        "\n",
        "<ins>**Additional data should be loaded and specified into this function**.<ins>"
      ]
    },
    {
      "cell_type": "code",
      "execution_count": null,
      "metadata": {
        "id": "efVRQO2mDfpj"
      },
      "outputs": [],
      "source": [
        "\n",
        "def load_day(path, day):\n",
        "    # fire_weather\n",
        "    fwi = path+'/fire_weather/fire_weather_index_day{}.tif'.format(day)\n",
        "    fwi = normalize(tif2np(fwi))\n",
        "    # weather relative humidity\n",
        "    wrh = path+'/weather/noon_relative_humidity_day{}.tif'.format(day)\n",
        "    wrh = normalize(tif2np(wrh))\n",
        "    # weather wind speed\n",
        "    wws = path+'/weather/noon_wind_speed_day{}.tif'.format(day)\n",
        "    wws = normalize(tif2np(wws))\n",
        "    # Add more data here\n",
        "    #...\n",
        "    return [fwi, wrh, wws]\n",
        "\n",
        "def load_fire(fire_num, split = \"Train\"):\n",
        "    path = train_path + fire_num\n",
        "    if split == \"Test\":\n",
        "        path = test_path + fire_num\n",
        "\n",
        "    ftif = path + \"/fire/{}.tif\".format(fire_num)\n",
        "    if split == \"Test\":\n",
        "        ftif = path + \"/fire/{}_train.tif\".format(fire_num)\n",
        "    fdata = tif2np(ftif)\n",
        "\n",
        "    minjd, maxjd = int(np.min(fdata[np.nonzero(fdata)])), int(np.max(fdata))\n",
        "    lastjd = maxjd\n",
        "    if split == \"Test\":\n",
        "        maxjd += 21\n",
        "\n",
        "    elev = normalize(tif2np(path+'/topography/dem.tif'))\n",
        "    slope = normalize(tif2np(path+'/topography/slope.tif'))\n",
        "    fuels = tif2np(path+'/fuels/fbp_fuels.tif')\n",
        "    ignition = tif2np(path+'/fire/ignitions.tif')\n",
        "\n",
        "    dataset = []\n",
        "    gt = ignition\n",
        "    cfire = ignition\n",
        "    for d in range(minjd, maxjd):\n",
        "        data = {}\n",
        "\n",
        "        fuels[cfire != 0] = 0\n",
        "        ft = [fuels]\n",
        "        ft.extend([cfire, gt, slope, elev])\n",
        "        ft.extend(load_day(path, d))\n",
        "        ft = np.stack(ft)\n",
        "        data['ft'] = ft\n",
        "\n",
        "        if d < lastjd:\n",
        "            gt = fdata == float(d)\n",
        "            data['gt'] = gt\n",
        "\n",
        "        cfire = np.logical_or(cfire ,gt)\n",
        "\n",
        "        dataset.append(data)\n",
        "    return dataset"
      ]
    },
    {
      "cell_type": "markdown",
      "metadata": {
        "id": "zy2ObNcfDfpk"
      },
      "source": [
        "## Create the datasets and dataloaders\n",
        "\n",
        "<ins>Create/implement data augmentations/transformations here<ins>"
      ]
    },
    {
      "cell_type": "code",
      "execution_count": null,
      "metadata": {
        "colab": {
          "base_uri": "https://localhost:8080/"
        },
        "id": "TtbWB0a7Dfpk",
        "outputId": "839fa6d6-92a6-45d0-f898-65aaed7b708a"
      },
      "outputs": [
        {
          "output_type": "stream",
          "name": "stdout",
          "text": [
            "245\n",
            "30\n"
          ]
        }
      ],
      "source": [
        "class FireDataset(Dataset):\n",
        "    def __init__(self, split=\"Train\"):\n",
        "        fnums = tr_fnums if split==\"Train\" else te_fnums\n",
        "        self.dataset = []\n",
        "        for fnum in fnums:\n",
        "            self.dataset.extend(load_fire(fnum, split=split))\n",
        "        print(len(self.dataset))\n",
        "\n",
        "    def __len__(self):\n",
        "        return len(self.dataset)\n",
        "\n",
        "    def __getitem__(self, idx):\n",
        "        return self.dataset[idx]\n",
        "\n",
        "trainset = FireDataset(split=\"Train\")\n",
        "trainset, valset = torch.utils.data.random_split(trainset, [0.9,0.1])\n",
        "testset = FireDataset(split=\"Test\")\n",
        "trainloader = torch.utils.data.DataLoader(trainset, batch_size=2, shuffle=True)\n",
        "valloader = torch.utils.data.DataLoader(valset, batch_size=2, shuffle=True)\n",
        "testloader = torch.utils.data.DataLoader(testset, batch_size=1, shuffle=False)"
      ]
    },
    {
      "cell_type": "markdown",
      "metadata": {
        "id": "k0RlMoxEDfpl"
      },
      "source": [
        "## Define the network/model\n",
        "\n",
        "In this example, we define a simple 2 layer cnn model.\n",
        "\n",
        "<ins>**Modify the model as you see fit!**<ins>"
      ]
    },
    {
      "cell_type": "code",
      "execution_count": null,
      "metadata": {
        "id": "3XOh0ln2Dfpm"
      },
      "outputs": [],
      "source": [
        "import torch\n",
        "import torch.nn as nn\n",
        "\n",
        "class FuelEmbeddings(nn.Module):\n",
        "    def __init__(self, embedding_dim):\n",
        "        super(FuelEmbeddings, self).__init__()\n",
        "\n",
        "        unique_values = [0, 1, 2, 3, 4, 7, 13, 31, 101, 425, 635, 650, 665]\n",
        "        self.unique_values = torch.tensor(unique_values).to(device)  # Unique values in the categorical feature\n",
        "        self.embedding_dim = embedding_dim\n",
        "        self.embedding = nn.Embedding(num_embeddings=len(unique_values), embedding_dim=embedding_dim)\n",
        "\n",
        "    def forward(self, categorical_feature):\n",
        "        # (B,H,W) -> (B,H,W,U) wher U is unique values count\n",
        "        mask = categorical_feature.unsqueeze(-1) == self.unique_values\n",
        "        matching_indices = torch.argmax(mask.int(), dim=-1)\n",
        "\n",
        "        # Apply embedding and reshape\n",
        "        # (B,H,W,U) -> (B,H,W,6) -> (B,6,H,W) in default setting\n",
        "        embedded_fuel = self.embedding(matching_indices)\n",
        "        embedded_reshaped_fuel = embedded_fuel.permute(0, 3, 1, 2)\n",
        "\n",
        "        return embedded_reshaped_fuel\n",
        "\n",
        "import torch.nn as nn\n",
        "\n",
        "class CNN1(nn.Module):\n",
        "    def __init__(self, embedding_dim=6, num_features=8, hidden_dim=64, num_layers=1):\n",
        "        super(CNN1, self).__init__()\n",
        "\n",
        "        self.fuelembedding = FuelEmbeddings(embedding_dim)\n",
        "\n",
        "        # CNN layers\n",
        "        self.conv_block1 = nn.Sequential(\n",
        "            nn.Conv2d(in_channels=(embedding_dim+num_features-1), out_channels=8, kernel_size=3, stride=1, padding=1),\n",
        "            nn.BatchNorm2d(num_features=8),\n",
        "            nn.ReLU(inplace=True),\n",
        "            nn.Conv2d(in_channels=8, out_channels=16, kernel_size=3, stride=1, padding=1),\n",
        "            nn.BatchNorm2d(num_features=16),\n",
        "            nn.ReLU(inplace=True)\n",
        "        )\n",
        "\n",
        "        # LSTM layer\n",
        "        self.lstm = nn.LSTM(input_size=16, hidden_size=hidden_dim, num_layers=num_layers, batch_first=True)\n",
        "\n",
        "        # Output layers\n",
        "        self.conv_block2 = nn.Sequential(\n",
        "            nn.Conv2d(in_channels=hidden_dim, out_channels=8, kernel_size=3, stride=1, padding=1),\n",
        "            nn.BatchNorm2d(num_features=8),\n",
        "            nn.ReLU(inplace=True),\n",
        "            nn.Conv2d(in_channels=8, out_channels=1, kernel_size=3, stride=1, padding=1)\n",
        "        )\n",
        "        self.sigmoid = nn.Sigmoid()\n",
        "\n",
        "    def forward(self, x):\n",
        "        categorical_feature = x[:, 0, :, :]  # Extract the categorical feature\n",
        "        embedded_fuel = self.fuelembedding(categorical_feature)  # Transform the categorical feature\n",
        "\n",
        "        # Replace the original categorical feature with the embedded feature\n",
        "        x = torch.cat((embedded_fuel, x[:, 1:, :, :]), dim=1)\n",
        "\n",
        "        # Apply CNN layers\n",
        "        x = self.conv_block1(x)\n",
        "\n",
        "        # Permute to match LSTM input shape\n",
        "        x = x.permute(0, 2, 3, 1)  # (batch_size, height, width, channels) -> (batch_size, height, width, channels)\n",
        "\n",
        "        # Reshape for LSTM\n",
        "        batch_size, height, width, channels = x.size()\n",
        "        x = x.view(batch_size, height * width, channels)\n",
        "\n",
        "        # Apply LSTM\n",
        "        lstm_out, _ = self.lstm(x)\n",
        "\n",
        "        # Apply output layers\n",
        "        x = self.conv_block2(lstm_out.permute(0, 2, 1).view(batch_size, -1, height, width))\n",
        "        out = self.sigmoid(x)\n",
        "\n",
        "        return out\n"
      ]
    },
    {
      "cell_type": "markdown",
      "metadata": {
        "id": "h9fz_Vj7Dfpn"
      },
      "source": [
        "## Define Loss function\n",
        "\n",
        "<ins>**Create/define/specify your own loss function here!**<ins>"
      ]
    },
    {
      "cell_type": "code",
      "execution_count": null,
      "metadata": {
        "id": "o9yOen0ZDfpn"
      },
      "outputs": [],
      "source": [
        "import torch\n",
        "import torch.nn as nn\n",
        "\n",
        "class IoULoss(nn.Module):\n",
        "    def __init__(self, threshold=0.5):\n",
        "        super(IoULoss, self).__init__()\n",
        "        self.threshold = threshold\n",
        "\n",
        "    def forward(self, outputs, labels):\n",
        "        # threshold condition is not differentiable so just use softmaxed data\n",
        "        # Flatten the tensors\n",
        "        outputs = outputs.view(-1)\n",
        "        labels = labels.view(-1)\n",
        "\n",
        "        # Compute the intersection\n",
        "        intersection = (outputs * labels).sum()\n",
        "\n",
        "        # Compute the union\n",
        "        union = outputs.sum() + labels.sum() - intersection\n",
        "        iou = intersection / (union + 1e-6)  # Add a small epsilon for numerical stability\n",
        "        loss = 1 - iou\n",
        "        return loss"
      ]
    },
    {
      "cell_type": "markdown",
      "metadata": {
        "id": "61Qyi5UgDfpo"
      },
      "source": [
        "#### Metrics for evaluation"
      ]
    },
    {
      "cell_type": "code",
      "execution_count": null,
      "metadata": {
        "id": "PZotCaXJDfpp"
      },
      "outputs": [],
      "source": [
        "from sklearn.metrics import accuracy_score, jaccard_score, f1_score"
      ]
    },
    {
      "cell_type": "markdown",
      "metadata": {
        "id": "EVm3kSupDfpq"
      },
      "source": [
        "#### Train function"
      ]
    },
    {
      "cell_type": "code",
      "execution_count": null,
      "metadata": {
        "id": "grMzbl80Dfpq"
      },
      "outputs": [],
      "source": [
        "# Train\n",
        "def train(model, dataloader, optimizer, criterion):\n",
        "    model.train()\n",
        "    running_loss = 0\n",
        "    total_steps = 0\n",
        "    for i, batch in enumerate(dataloader):\n",
        "        ft = batch['ft'].to(device).float()\n",
        "        gt = batch['gt'].to(device).float()\n",
        "\n",
        "        optimizer.zero_grad()\n",
        "        output = model(ft).squeeze()\n",
        "\n",
        "        loss = criterion(output, gt)\n",
        "\n",
        "        loss.backward()\n",
        "        optimizer.step()\n",
        "        running_loss += loss.item()\n",
        "        total_steps += 1\n",
        "    return running_loss/total_steps"
      ]
    },
    {
      "cell_type": "markdown",
      "metadata": {
        "id": "Xa8olcR2Dfpr"
      },
      "source": [
        "#### Eval function"
      ]
    },
    {
      "cell_type": "code",
      "execution_count": null,
      "metadata": {
        "id": "wUpoqU_ZDfpr"
      },
      "outputs": [],
      "source": [
        "def eval(model, dataloader):\n",
        "    model.eval()\n",
        "    acc = []\n",
        "    iou = []\n",
        "    f1 = []\n",
        "    total_steps = 0\n",
        "    with torch.no_grad():\n",
        "        for i, batch in enumerate(dataloader):\n",
        "            ft = batch['ft'].to(device)\n",
        "            gt = torch.flatten(batch['gt'])\n",
        "\n",
        "            output = torch.flatten(model(ft)).squeeze().cpu()\n",
        "            output = (output > 0.5)\n",
        "\n",
        "            acc.append(accuracy_score(gt, output))\n",
        "            iou.append(jaccard_score(gt, output))\n",
        "            f1.append(f1_score(gt, output))\n",
        "            total_steps += 1\n",
        "    return sum(acc)/total_steps, sum(iou)/total_steps, sum(f1)/total_steps"
      ]
    },
    {
      "cell_type": "markdown",
      "metadata": {
        "id": "9avYkJPQDfps"
      },
      "source": [
        "#### Inference function\n",
        "\n",
        "Saves the inference results to a submission file!"
      ]
    },
    {
      "cell_type": "code",
      "execution_count": null,
      "metadata": {
        "id": "ryuTS_FnDfpt"
      },
      "outputs": [],
      "source": [
        "def inference(model, dataloader):\n",
        "    model.eval()\n",
        "    with torch.no_grad():\n",
        "        cfire = torch.zeros(target_shape)\n",
        "        for i, day in enumerate(dataloader):\n",
        "            ft = day['ft'].to(device)\n",
        "\n",
        "            # Create the submission file after 10 days\n",
        "            if i > 9:\n",
        "                cfire = torch.logical_or(output, cfire) # define the cumulative fire\n",
        "                ft[0][1] = cfire # set the cumulative fire for the next input\n",
        "                ft[0][2] = output # set the next step fire for the next input\n",
        "            else:\n",
        "                cfire = ft[0][1]\n",
        "\n",
        "            output = model(ft)\n",
        "            output = (output > 0.5)\n",
        "\n",
        "    # Save the cumulative fire\n",
        "    pred = cfire.cpu().squeeze().numpy()\n",
        "    save_df = pd.DataFrame(pred)  # convert img data to df\n",
        "    save_df.to_csv(\"./submission.csv\", index_label='row')\n",
        "    return pred"
      ]
    },
    {
      "cell_type": "markdown",
      "metadata": {
        "id": "ruX4nJqCDfpx"
      },
      "source": [
        "#### The training/eval/inference loop\n",
        "\n",
        "<ins>**Define new optimizers here**<ins>\n",
        "\n",
        "<ins>**Utilize a scheduler here**<ins>\n",
        "\n",
        "<ins>**Change the learning rate here**<ins>\n",
        "\n",
        "<ins>**Implement a better early stopping strategy here**<ins>\n",
        "\n",
        "<ins>**Implement other tricks here (i.e. EMA)**<ins>\n"
      ]
    },
    {
      "cell_type": "code",
      "execution_count": null,
      "metadata": {
        "colab": {
          "base_uri": "https://localhost:8080/"
        },
        "id": "za10vX4HDfpy",
        "outputId": "b42dd209-4957-41bb-dc05-a86ad2c79bb5"
      },
      "outputs": [
        {
          "output_type": "stream",
          "name": "stdout",
          "text": [
            "0*  avg iou loss:0.993 avg acc: 0.913 avg f1: 0.064 avg iou: 0.033\n",
            "1*  avg iou loss:0.964 avg acc: 0.985 avg f1: 0.232 avg iou: 0.133\n",
            "2*  avg iou loss:0.876 avg acc: 0.989 avg f1: 0.305 avg iou: 0.185\n",
            "3  avg iou loss:0.849 avg acc: 0.991 avg f1: 0.307 avg iou: 0.185\n",
            "4*  avg iou loss:0.851 avg acc: 0.992 avg f1: 0.336 avg iou: 0.204\n"
          ]
        }
      ],
      "source": [
        "model = CNN1(num_features=8)\n",
        "model.to(device)\n",
        "optimizer = optim.Adam(model.parameters(), lr=0.001)\n",
        "criterion = IoULoss()\n",
        "epochs = 5\n",
        "best_miou = 0\n",
        "for e in range(epochs):\n",
        "    loss = train(model, trainloader, optimizer, criterion)\n",
        "    aa, miou, mf1 = eval(model,valloader)\n",
        "\n",
        "    if miou > best_miou:\n",
        "        best_miou = miou\n",
        "        cfire = inference(model, testloader)\n",
        "        e = str(e)+\"*\"\n",
        "    print(e, \" avg iou loss:{:.3f} avg acc: {:.3f} avg f1: {:.3f} avg iou: {:.3f}\".format(loss, aa, mf1, miou))\n",
        "\n"
      ]
    },
    {
      "cell_type": "markdown",
      "metadata": {
        "id": "sqH411nQDfpy"
      },
      "source": [
        "## Other Ideas to implement!\n",
        "\n",
        "<ins>**Ensemble learning - voting**<ins>\n",
        "\n",
        "<ins>**Implement hot spot data pipeline**<ins>\n",
        "\n",
        "<ins>**Make better use of temporal data**<ins>\n",
        "\n",
        "<ins>**Get creative!**<ins>"
      ]
    }
  ],
  "metadata": {
    "kernelspec": {
      "display_name": "Python 3",
      "name": "python3"
    },
    "language_info": {
      "codemirror_mode": {
        "name": "ipython",
        "version": 3
      },
      "file_extension": ".py",
      "mimetype": "text/x-python",
      "name": "python",
      "nbconvert_exporter": "python",
      "pygments_lexer": "ipython3",
      "version": "3.11.9"
    },
    "colab": {
      "provenance": [],
      "gpuType": "T4"
    },
    "accelerator": "GPU"
  },
  "nbformat": 4,
  "nbformat_minor": 0
}